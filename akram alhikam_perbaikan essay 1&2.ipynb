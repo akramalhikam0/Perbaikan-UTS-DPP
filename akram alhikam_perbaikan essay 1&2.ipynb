{
 "cells": [
  {
   "cell_type": "code",
   "execution_count": 9,
   "id": "814df2c8",
   "metadata": {},
   "outputs": [
    {
     "name": "stdout",
     "output_type": "stream",
     "text": [
      "Masukan Email anda : akramalhikam@gmail.com\n",
      "True\n"
     ]
    }
   ],
   "source": [
    "#No.1\n",
    "email = input('Masukan Email anda : ')\n",
    "pos_at = 0\n",
    "pos_titik = 0\n",
    "pos_at = email.find('@')\n",
    "pos_titik = email.find('.')\n",
    "print(pos_at < pos_titik)"
   ]
  },
  {
   "cell_type": "code",
   "execution_count": 10,
   "id": "0da2cdf7",
   "metadata": {},
   "outputs": [
    {
     "name": "stdout",
     "output_type": "stream",
     "text": [
      "Masukan Email anda : akramalhikam@gmailcom\n",
      "False\n"
     ]
    }
   ],
   "source": [
    "email = input('Masukan Email anda : ')\n",
    "pos_at = 0\n",
    "pos_titik = 0\n",
    "pos_at = email.find('@')\n",
    "pos_titik = email.find('.')\n",
    "print(pos_at < pos_titik)"
   ]
  },
  {
   "cell_type": "code",
   "execution_count": 11,
   "id": "227b44dd",
   "metadata": {},
   "outputs": [
    {
     "name": "stdout",
     "output_type": "stream",
     "text": [
      "Masukan Kalimat : Looping For digunakan ketika sudah diketahui batas Awal dan Batas Akhir\n",
      "7ooping For digun4k4n k3tik4 sud4h dik3t4hui b4t4s 4w4l d4n B4t4s 4khir\n"
     ]
    }
   ],
   "source": [
    "#No.2\n",
    "kalimat = input('Masukan Kalimat : ')\n",
    "i  = 0\n",
    "kata = ''\n",
    "for i in range (len(kalimat)):\n",
    "    if kalimat[i] == 'a' or kalimat[i] == 'A':\n",
    "        kata = kata + '4'\n",
    "    elif kalimat[i] == 'e' or kalimat[i] == 'E':\n",
    "        kata = kata + '3'\n",
    "    elif kalimat[i] == 'L':\n",
    "        kata = kata + '7'\n",
    "    elif kalimat[i] == 'S':\n",
    "        kata = kata + '5'\n",
    "    else:\n",
    "        kata = kata + kalimat[i]\n",
    "print(kata)"
   ]
  },
  {
   "cell_type": "code",
   "execution_count": null,
   "id": "b75fccdb",
   "metadata": {},
   "outputs": [],
   "source": []
  }
 ],
 "metadata": {
  "kernelspec": {
   "display_name": "Python 3 (ipykernel)",
   "language": "python",
   "name": "python3"
  },
  "language_info": {
   "codemirror_mode": {
    "name": "ipython",
    "version": 3
   },
   "file_extension": ".py",
   "mimetype": "text/x-python",
   "name": "python",
   "nbconvert_exporter": "python",
   "pygments_lexer": "ipython3",
   "version": "3.9.12"
  }
 },
 "nbformat": 4,
 "nbformat_minor": 5
}
